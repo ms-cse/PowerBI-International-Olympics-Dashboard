{
 "cells": [
  {
   "cell_type": "markdown",
   "id": "0d9f2fea-4f94-494b-85b9-bbe48a543df0",
   "metadata": {},
   "source": [
    "# Data PreProcessing - International Olympics Dataset "
   ]
  },
  {
   "cell_type": "markdown",
   "id": "31f39e2c-0387-4d27-ad15-86134e0abe4e",
   "metadata": {},
   "source": [
    "## 1. Load Modules"
   ]
  },
  {
   "cell_type": "code",
   "execution_count": 1,
   "id": "04e451b1-c678-44bc-9f73-d279034fb102",
   "metadata": {
    "tags": []
   },
   "outputs": [],
   "source": [
    "import numpy as np\n",
    "import pandas as pd\n",
    "\n",
    "import seaborn as sb\n",
    "\n",
    "from warnings import filterwarnings\n",
    "filterwarnings(\"ignore\") "
   ]
  },
  {
   "cell_type": "markdown",
   "id": "1cb12045-70f1-4083-b353-c896b4a73cbf",
   "metadata": {},
   "source": [
    "## 2. Load Data"
   ]
  },
  {
   "cell_type": "code",
   "execution_count": 2,
   "id": "a214460a-fa6a-4af5-ba5d-e5003f1855e4",
   "metadata": {
    "tags": []
   },
   "outputs": [
    {
     "data": {
      "text/plain": [
       "(29216, 10)"
      ]
     },
     "execution_count": 2,
     "metadata": {},
     "output_type": "execute_result"
    }
   ],
   "source": [
    "df1 = pd.read_excel('sio_120Y_ori.xlsx', sheet_name=0)\n",
    "df1.shape"
   ]
  },
  {
   "cell_type": "code",
   "execution_count": 3,
   "id": "cf78c0c7-bc37-464f-90d3-d1b3b48745b2",
   "metadata": {
    "tags": []
   },
   "outputs": [
    {
     "data": {
      "text/plain": [
       "(26, 3)"
      ]
     },
     "execution_count": 3,
     "metadata": {},
     "output_type": "execute_result"
    }
   ],
   "source": [
    "df2 = pd.read_excel('sio_120Y_ori.xlsx', sheet_name=1)\n",
    "df2.shape"
   ]
  },
  {
   "cell_type": "code",
   "execution_count": 4,
   "id": "e48add10-9ef3-4bb5-9b6f-02b0f645c0f0",
   "metadata": {
    "tags": []
   },
   "outputs": [
    {
     "data": {
      "text/plain": [
       "(201, 2)"
      ]
     },
     "execution_count": 4,
     "metadata": {},
     "output_type": "execute_result"
    }
   ],
   "source": [
    "df3 = pd.read_excel('sio_120Y_ori.xlsx', sheet_name=2)\n",
    "df3.shape"
   ]
  },
  {
   "cell_type": "markdown",
   "id": "c0994bf4-b01c-46be-bead-f16fa5dd791f",
   "metadata": {},
   "source": [
    "## 3. PreProcess Dataset"
   ]
  },
  {
   "cell_type": "markdown",
   "id": "e94e681e-00a5-47c6-9997-077127067e1e",
   "metadata": {},
   "source": [
    "### 3.1 Merge Data"
   ]
  },
  {
   "cell_type": "code",
   "execution_count": 5,
   "id": "d6c32606-d025-4b44-96f2-0ad8e84cf0fa",
   "metadata": {
    "tags": []
   },
   "outputs": [],
   "source": [
    "df = pd.merge(df1, df2, how='inner', on='City')"
   ]
  },
  {
   "cell_type": "code",
   "execution_count": 6,
   "id": "8a3f2100-c0d8-4e6f-a0b6-42fd32bbf436",
   "metadata": {
    "tags": []
   },
   "outputs": [],
   "source": [
    "df = pd.merge(df, df3, how='inner', on='NOC')"
   ]
  },
  {
   "cell_type": "markdown",
   "id": "fe3f596f-dbe5-46ea-a2eb-a27fc35a0cec",
   "metadata": {},
   "source": [
    "### 3.2 Rename, Drop, Re-order Dataset"
   ]
  },
  {
   "cell_type": "code",
   "execution_count": 7,
   "id": "6b064202-e53b-4180-af39-e56d5e0459c9",
   "metadata": {
    "tags": []
   },
   "outputs": [],
   "source": [
    "df = df.rename(columns={'Edition_x':'Edition', 'Country_x':'Country', 'Country_y':'Team'})\n",
    "df = df.drop(columns=['Edition_y'])"
   ]
  },
  {
   "cell_type": "code",
   "execution_count": 8,
   "id": "bed76fb3-ba9d-4d8e-b92c-3be01b646049",
   "metadata": {},
   "outputs": [
    {
     "data": {
      "text/plain": [
       "['City',\n",
       " 'Edition',\n",
       " 'Sport',\n",
       " 'Discipline',\n",
       " 'Athlete',\n",
       " 'NOC',\n",
       " 'Gender',\n",
       " 'Event',\n",
       " 'Event_gender',\n",
       " 'Medal',\n",
       " 'Country',\n",
       " 'Team']"
      ]
     },
     "execution_count": 8,
     "metadata": {},
     "output_type": "execute_result"
    }
   ],
   "source": [
    "df.columns.values.tolist()"
   ]
  },
  {
   "cell_type": "code",
   "execution_count": 9,
   "id": "e4570fe4-c2a8-4f8d-88f7-44ced0522f87",
   "metadata": {
    "tags": []
   },
   "outputs": [],
   "source": [
    "df = df[['Edition','Country','City','Sport','Discipline','Athlete','Team','NOC','Gender','Event','Event_gender','Medal']]"
   ]
  },
  {
   "cell_type": "markdown",
   "id": "1868b1db-a0b8-4220-bfa7-5d3475757e66",
   "metadata": {},
   "source": [
    "### 3.3 Data Info"
   ]
  },
  {
   "cell_type": "code",
   "execution_count": 10,
   "id": "8de52ae6-35b7-44e7-a56a-1b4e588da76d",
   "metadata": {
    "tags": []
   },
   "outputs": [
    {
     "data": {
      "text/html": [
       "<div>\n",
       "<style scoped>\n",
       "    .dataframe tbody tr th:only-of-type {\n",
       "        vertical-align: middle;\n",
       "    }\n",
       "\n",
       "    .dataframe tbody tr th {\n",
       "        vertical-align: top;\n",
       "    }\n",
       "\n",
       "    .dataframe thead th {\n",
       "        text-align: right;\n",
       "    }\n",
       "</style>\n",
       "<table border=\"1\" class=\"dataframe\">\n",
       "  <thead>\n",
       "    <tr style=\"text-align: right;\">\n",
       "      <th></th>\n",
       "      <th>Edition</th>\n",
       "      <th>Country</th>\n",
       "      <th>City</th>\n",
       "      <th>Sport</th>\n",
       "      <th>Discipline</th>\n",
       "      <th>Athlete</th>\n",
       "      <th>Team</th>\n",
       "      <th>NOC</th>\n",
       "      <th>Gender</th>\n",
       "      <th>Event</th>\n",
       "      <th>Event_gender</th>\n",
       "      <th>Medal</th>\n",
       "    </tr>\n",
       "  </thead>\n",
       "  <tbody>\n",
       "    <tr>\n",
       "      <th>0</th>\n",
       "      <td>1896</td>\n",
       "      <td>Greece</td>\n",
       "      <td>Athens</td>\n",
       "      <td>Aquatics</td>\n",
       "      <td>Swimming</td>\n",
       "      <td>HAJOS, Alfred</td>\n",
       "      <td>Hungary</td>\n",
       "      <td>HUN</td>\n",
       "      <td>Men</td>\n",
       "      <td>100m freestyle</td>\n",
       "      <td>M</td>\n",
       "      <td>Gold</td>\n",
       "    </tr>\n",
       "    <tr>\n",
       "      <th>1</th>\n",
       "      <td>1896</td>\n",
       "      <td>Greece</td>\n",
       "      <td>Athens</td>\n",
       "      <td>Aquatics</td>\n",
       "      <td>Swimming</td>\n",
       "      <td>HAJOS, Alfred</td>\n",
       "      <td>Hungary</td>\n",
       "      <td>HUN</td>\n",
       "      <td>Men</td>\n",
       "      <td>100m freestyle</td>\n",
       "      <td>M</td>\n",
       "      <td>Gold</td>\n",
       "    </tr>\n",
       "    <tr>\n",
       "      <th>2</th>\n",
       "      <td>1896</td>\n",
       "      <td>Greece</td>\n",
       "      <td>Athens</td>\n",
       "      <td>Aquatics</td>\n",
       "      <td>Swimming</td>\n",
       "      <td>HAJOS, Alfred</td>\n",
       "      <td>Hungary</td>\n",
       "      <td>HUN</td>\n",
       "      <td>Men</td>\n",
       "      <td>1200m freestyle</td>\n",
       "      <td>M</td>\n",
       "      <td>Gold</td>\n",
       "    </tr>\n",
       "    <tr>\n",
       "      <th>3</th>\n",
       "      <td>1896</td>\n",
       "      <td>Greece</td>\n",
       "      <td>Athens</td>\n",
       "      <td>Aquatics</td>\n",
       "      <td>Swimming</td>\n",
       "      <td>HAJOS, Alfred</td>\n",
       "      <td>Hungary</td>\n",
       "      <td>HUN</td>\n",
       "      <td>Men</td>\n",
       "      <td>1200m freestyle</td>\n",
       "      <td>M</td>\n",
       "      <td>Gold</td>\n",
       "    </tr>\n",
       "    <tr>\n",
       "      <th>4</th>\n",
       "      <td>1896</td>\n",
       "      <td>Greece</td>\n",
       "      <td>Athens</td>\n",
       "      <td>Athletics</td>\n",
       "      <td>Athletics</td>\n",
       "      <td>SZOKOLYI, Alajos</td>\n",
       "      <td>Hungary</td>\n",
       "      <td>HUN</td>\n",
       "      <td>Men</td>\n",
       "      <td>100m</td>\n",
       "      <td>M</td>\n",
       "      <td>Bronze</td>\n",
       "    </tr>\n",
       "  </tbody>\n",
       "</table>\n",
       "</div>"
      ],
      "text/plain": [
       "   Edition Country    City      Sport Discipline           Athlete     Team  \\\n",
       "0     1896  Greece  Athens   Aquatics   Swimming     HAJOS, Alfred  Hungary   \n",
       "1     1896  Greece  Athens   Aquatics   Swimming     HAJOS, Alfred  Hungary   \n",
       "2     1896  Greece  Athens   Aquatics   Swimming     HAJOS, Alfred  Hungary   \n",
       "3     1896  Greece  Athens   Aquatics   Swimming     HAJOS, Alfred  Hungary   \n",
       "4     1896  Greece  Athens  Athletics  Athletics  SZOKOLYI, Alajos  Hungary   \n",
       "\n",
       "   NOC Gender            Event Event_gender   Medal  \n",
       "0  HUN    Men   100m freestyle            M    Gold  \n",
       "1  HUN    Men   100m freestyle            M    Gold  \n",
       "2  HUN    Men  1200m freestyle            M    Gold  \n",
       "3  HUN    Men  1200m freestyle            M    Gold  \n",
       "4  HUN    Men             100m            M  Bronze  "
      ]
     },
     "execution_count": 10,
     "metadata": {},
     "output_type": "execute_result"
    }
   ],
   "source": [
    "df.head()"
   ]
  },
  {
   "cell_type": "code",
   "execution_count": 11,
   "id": "b5b20e98-f262-4392-bb46-802c8ea84642",
   "metadata": {
    "tags": []
   },
   "outputs": [
    {
     "data": {
      "text/plain": [
       "(28827, 12)"
      ]
     },
     "execution_count": 11,
     "metadata": {},
     "output_type": "execute_result"
    }
   ],
   "source": [
    "df.shape"
   ]
  },
  {
   "cell_type": "code",
   "execution_count": 12,
   "id": "bb4b63df-e71e-4b62-81ac-a790fea8a849",
   "metadata": {
    "tags": []
   },
   "outputs": [
    {
     "data": {
      "text/plain": [
       "Edition         0\n",
       "Country         0\n",
       "City            0\n",
       "Sport           0\n",
       "Discipline      0\n",
       "Athlete         0\n",
       "Team            0\n",
       "NOC             0\n",
       "Gender          0\n",
       "Event           0\n",
       "Event_gender    0\n",
       "Medal           0\n",
       "dtype: int64"
      ]
     },
     "execution_count": 12,
     "metadata": {},
     "output_type": "execute_result"
    }
   ],
   "source": [
    "df.isna().sum()"
   ]
  },
  {
   "cell_type": "code",
   "execution_count": 13,
   "id": "033a8fa0-7ba8-49f0-b7bf-993cbdda40a3",
   "metadata": {
    "tags": []
   },
   "outputs": [
    {
     "data": {
      "text/plain": [
       "6705"
      ]
     },
     "execution_count": 13,
     "metadata": {},
     "output_type": "execute_result"
    }
   ],
   "source": [
    "df.duplicated().sum()"
   ]
  },
  {
   "cell_type": "code",
   "execution_count": 14,
   "id": "60f50608-f174-49d3-b9cf-3212b7dbdead",
   "metadata": {
    "tags": []
   },
   "outputs": [],
   "source": [
    "df = df.drop_duplicates()"
   ]
  },
  {
   "cell_type": "code",
   "execution_count": 15,
   "id": "c14ece62-4f24-430f-bcd1-894d172904eb",
   "metadata": {
    "tags": []
   },
   "outputs": [
    {
     "data": {
      "text/plain": [
       "0"
      ]
     },
     "execution_count": 15,
     "metadata": {},
     "output_type": "execute_result"
    }
   ],
   "source": [
    "df.duplicated().sum()"
   ]
  },
  {
   "cell_type": "markdown",
   "id": "30ac68ee-ce8c-4bdc-a6ed-fef73c4db681",
   "metadata": {},
   "source": [
    "## 4. Save and Load Dataset"
   ]
  },
  {
   "cell_type": "code",
   "execution_count": 16,
   "id": "96570d06-792f-4fc5-a9b5-2200c0c1418c",
   "metadata": {},
   "outputs": [],
   "source": [
    "df.to_csv('sio_120Y_final.csv', index=False)"
   ]
  },
  {
   "cell_type": "code",
   "execution_count": 17,
   "id": "d8cc9bad-417b-4cd2-a17e-0607d1fa21c5",
   "metadata": {
    "tags": []
   },
   "outputs": [
    {
     "data": {
      "text/plain": [
       "(22122, 12)"
      ]
     },
     "execution_count": 17,
     "metadata": {},
     "output_type": "execute_result"
    }
   ],
   "source": [
    "df = pd.read_csv('sio_120Y_final.csv')\n",
    "df.shape"
   ]
  },
  {
   "cell_type": "code",
   "execution_count": 18,
   "id": "92b5025c-73f4-4d23-ad7c-26125e93a849",
   "metadata": {},
   "outputs": [
    {
     "data": {
      "text/html": [
       "<div>\n",
       "<style scoped>\n",
       "    .dataframe tbody tr th:only-of-type {\n",
       "        vertical-align: middle;\n",
       "    }\n",
       "\n",
       "    .dataframe tbody tr th {\n",
       "        vertical-align: top;\n",
       "    }\n",
       "\n",
       "    .dataframe thead th {\n",
       "        text-align: right;\n",
       "    }\n",
       "</style>\n",
       "<table border=\"1\" class=\"dataframe\">\n",
       "  <thead>\n",
       "    <tr style=\"text-align: right;\">\n",
       "      <th></th>\n",
       "      <th>Edition</th>\n",
       "      <th>Country</th>\n",
       "      <th>City</th>\n",
       "      <th>Sport</th>\n",
       "      <th>Discipline</th>\n",
       "      <th>Athlete</th>\n",
       "      <th>Team</th>\n",
       "      <th>NOC</th>\n",
       "      <th>Gender</th>\n",
       "      <th>Event</th>\n",
       "      <th>Event_gender</th>\n",
       "      <th>Medal</th>\n",
       "    </tr>\n",
       "  </thead>\n",
       "  <tbody>\n",
       "    <tr>\n",
       "      <th>0</th>\n",
       "      <td>1896</td>\n",
       "      <td>Greece</td>\n",
       "      <td>Athens</td>\n",
       "      <td>Aquatics</td>\n",
       "      <td>Swimming</td>\n",
       "      <td>HAJOS, Alfred</td>\n",
       "      <td>Hungary</td>\n",
       "      <td>HUN</td>\n",
       "      <td>Men</td>\n",
       "      <td>100m freestyle</td>\n",
       "      <td>M</td>\n",
       "      <td>Gold</td>\n",
       "    </tr>\n",
       "    <tr>\n",
       "      <th>1</th>\n",
       "      <td>1896</td>\n",
       "      <td>Greece</td>\n",
       "      <td>Athens</td>\n",
       "      <td>Aquatics</td>\n",
       "      <td>Swimming</td>\n",
       "      <td>HAJOS, Alfred</td>\n",
       "      <td>Hungary</td>\n",
       "      <td>HUN</td>\n",
       "      <td>Men</td>\n",
       "      <td>1200m freestyle</td>\n",
       "      <td>M</td>\n",
       "      <td>Gold</td>\n",
       "    </tr>\n",
       "    <tr>\n",
       "      <th>2</th>\n",
       "      <td>1896</td>\n",
       "      <td>Greece</td>\n",
       "      <td>Athens</td>\n",
       "      <td>Athletics</td>\n",
       "      <td>Athletics</td>\n",
       "      <td>SZOKOLYI, Alajos</td>\n",
       "      <td>Hungary</td>\n",
       "      <td>HUN</td>\n",
       "      <td>Men</td>\n",
       "      <td>100m</td>\n",
       "      <td>M</td>\n",
       "      <td>Bronze</td>\n",
       "    </tr>\n",
       "    <tr>\n",
       "      <th>3</th>\n",
       "      <td>1896</td>\n",
       "      <td>Greece</td>\n",
       "      <td>Athens</td>\n",
       "      <td>Athletics</td>\n",
       "      <td>Athletics</td>\n",
       "      <td>DANI, Nandor</td>\n",
       "      <td>Hungary</td>\n",
       "      <td>HUN</td>\n",
       "      <td>Men</td>\n",
       "      <td>800m</td>\n",
       "      <td>M</td>\n",
       "      <td>Silver</td>\n",
       "    </tr>\n",
       "    <tr>\n",
       "      <th>4</th>\n",
       "      <td>1896</td>\n",
       "      <td>Greece</td>\n",
       "      <td>Athens</td>\n",
       "      <td>Athletics</td>\n",
       "      <td>Athletics</td>\n",
       "      <td>KELLNER, Gyula</td>\n",
       "      <td>Hungary</td>\n",
       "      <td>HUN</td>\n",
       "      <td>Men</td>\n",
       "      <td>marathon</td>\n",
       "      <td>M</td>\n",
       "      <td>Bronze</td>\n",
       "    </tr>\n",
       "  </tbody>\n",
       "</table>\n",
       "</div>"
      ],
      "text/plain": [
       "   Edition Country    City      Sport Discipline           Athlete     Team  \\\n",
       "0     1896  Greece  Athens   Aquatics   Swimming     HAJOS, Alfred  Hungary   \n",
       "1     1896  Greece  Athens   Aquatics   Swimming     HAJOS, Alfred  Hungary   \n",
       "2     1896  Greece  Athens  Athletics  Athletics  SZOKOLYI, Alajos  Hungary   \n",
       "3     1896  Greece  Athens  Athletics  Athletics      DANI, Nandor  Hungary   \n",
       "4     1896  Greece  Athens  Athletics  Athletics    KELLNER, Gyula  Hungary   \n",
       "\n",
       "   NOC Gender            Event Event_gender   Medal  \n",
       "0  HUN    Men   100m freestyle            M    Gold  \n",
       "1  HUN    Men  1200m freestyle            M    Gold  \n",
       "2  HUN    Men             100m            M  Bronze  \n",
       "3  HUN    Men             800m            M  Silver  \n",
       "4  HUN    Men         marathon            M  Bronze  "
      ]
     },
     "execution_count": 18,
     "metadata": {},
     "output_type": "execute_result"
    }
   ],
   "source": [
    "df.head()"
   ]
  },
  {
   "cell_type": "markdown",
   "id": "9fceaee7-1d66-4898-bc4c-82373cfc2612",
   "metadata": {},
   "source": [
    "## 5. Analysis"
   ]
  },
  {
   "cell_type": "code",
   "execution_count": 19,
   "id": "09065ae8-3fe3-4e3e-911f-1208b2cfcd9e",
   "metadata": {
    "tags": []
   },
   "outputs": [],
   "source": [
    "grp_y_gen = df.groupby(['Edition','Gender']).size()"
   ]
  },
  {
   "cell_type": "code",
   "execution_count": 20,
   "id": "4ab55f40-bf15-48c1-aa7a-d16db5560be5",
   "metadata": {
    "tags": []
   },
   "outputs": [
    {
     "data": {
      "text/plain": [
       "Edition  Gender\n",
       "1896     Men        145\n",
       "1900     Men        469\n",
       "         Women        7\n",
       "1908     Men        762\n",
       "         Women       15\n",
       "1912     Men        833\n",
       "         Women       28\n",
       "1920     Men       1246\n",
       "         Women       42\n",
       "1924     Men        798\n",
       "         Women       51\n",
       "1928     Men        587\n",
       "         Women       95\n",
       "1932     Men        551\n",
       "         Women       60\n",
       "1936     Men        779\n",
       "         Women       76\n",
       "1948     Men        690\n",
       "         Women       88\n",
       "1952     Men        626\n",
       "         Women       93\n",
       "1960     Men        502\n",
       "         Women       64\n",
       "1964     Men        521\n",
       "         Women      114\n",
       "1972     Men        533\n",
       "         Women      110\n",
       "1976     Men        514\n",
       "         Women      150\n",
       "1980     Men        396\n",
       "         Women      107\n",
       "1984     Men        745\n",
       "         Women      364\n",
       "1988     Men        557\n",
       "         Women      284\n",
       "1992     Men        946\n",
       "         Women      472\n",
       "1996     Men       1049\n",
       "         Women      746\n",
       "2000     Men       1092\n",
       "         Women      851\n",
       "2004     Men       1087\n",
       "         Women      872\n",
       "2008     Men       1094\n",
       "         Women      911\n",
       "dtype: int64"
      ]
     },
     "execution_count": 20,
     "metadata": {},
     "output_type": "execute_result"
    }
   ],
   "source": [
    "grp_y_gen"
   ]
  },
  {
   "cell_type": "code",
   "execution_count": 21,
   "id": "79ab4d82-d274-463e-bd3e-cd43a82cff74",
   "metadata": {
    "tags": []
   },
   "outputs": [],
   "source": [
    "grp_y_med = df.groupby(['Edition','Medal']).size()"
   ]
  },
  {
   "cell_type": "code",
   "execution_count": 22,
   "id": "ad638d5c-cba8-43f2-95b2-fd6d6ff74f28",
   "metadata": {
    "tags": []
   },
   "outputs": [
    {
     "data": {
      "text/plain": [
       "Edition  Medal \n",
       "1896     Bronze     38\n",
       "         Gold       62\n",
       "         Silver     45\n",
       "1900     Bronze    133\n",
       "         Gold      160\n",
       "                  ... \n",
       "2004     Gold      636\n",
       "         Silver    655\n",
       "2008     Bronze    680\n",
       "         Gold      664\n",
       "         Silver    661\n",
       "Length: 69, dtype: int64"
      ]
     },
     "execution_count": 22,
     "metadata": {},
     "output_type": "execute_result"
    }
   ],
   "source": [
    "grp_y_med"
   ]
  },
  {
   "cell_type": "code",
   "execution_count": null,
   "id": "e8d72154-9522-4601-a714-aab1ff14a2cc",
   "metadata": {},
   "outputs": [],
   "source": []
  }
 ],
 "metadata": {
  "kernelspec": {
   "display_name": "Python 3 (ipykernel)",
   "language": "python",
   "name": "python3"
  },
  "language_info": {
   "codemirror_mode": {
    "name": "ipython",
    "version": 3
   },
   "file_extension": ".py",
   "mimetype": "text/x-python",
   "name": "python",
   "nbconvert_exporter": "python",
   "pygments_lexer": "ipython3",
   "version": "3.12.8"
  }
 },
 "nbformat": 4,
 "nbformat_minor": 5
}
